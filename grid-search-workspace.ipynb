{
 "cells": [
  {
   "cell_type": "code",
   "execution_count": 31,
   "metadata": {},
   "outputs": [],
   "source": [
    "import numpy as np\n",
    "import pandas as pd\n",
    "from sklearn.naive_bayes import GaussianNB, MultinomialNB, BernoulliNB\n",
    "from sklearn.tree import DecisionTreeClassifier\n",
    "from sklearn.neighbors import KNeighborsClassifier\n",
    "from sklearn.svm import LinearSVC\n",
    "from sklearn.ensemble import RandomForestClassifier, ExtraTreesClassifier\n",
    "from sklearn.linear_model import LogisticRegression\n",
    "from sklearn.model_selection import GridSearchCV\n",
    "from sklearn.neural_network import MLPClassifier\n",
    "import matplotlib.pyplot as plt\n",
    "\n",
    "from data_preprocessing import *\n",
    "from train_and_test import *\n",
    "from grid_search import run_search"
   ]
  },
  {
   "cell_type": "code",
   "execution_count": 2,
   "metadata": {},
   "outputs": [],
   "source": [
    "X_train, Y_train, X_test, Y_test, X_train_norm, Y_train_norm, X_test_norm, Y_test_norm = get_all_data(train_path,\n",
    "                                                                                                          test_path)"
   ]
  },
  {
   "cell_type": "code",
   "execution_count": 3,
   "metadata": {},
   "outputs": [
    {
     "name": "stdout",
     "output_type": "stream",
     "text": [
      "Fitting 3 folds for each of 9 candidates, totalling 27 fits\n"
     ]
    },
    {
     "name": "stderr",
     "output_type": "stream",
     "text": [
      "[Parallel(n_jobs=4)]: Done  27 out of  27 | elapsed:    1.9s finished\n"
     ]
    },
    {
     "name": "stdout",
     "output_type": "stream",
     "text": [
      "Train score: 0.608316481294\n",
      "Test score: 0.61057904818\n",
      "Best params: {'priors': (0.9, 0.09999999999999998)}\n"
     ]
    }
   ],
   "source": [
    "param_grid = {\n",
    "    'priors': [(i/10, 1-i/10) for i in range(1,10)],\n",
    "}\n",
    "\n",
    "search = run_search(GaussianNB(), param_grid, n_jobs=4, norm=True)"
   ]
  },
  {
   "cell_type": "code",
   "execution_count": 4,
   "metadata": {},
   "outputs": [
    {
     "name": "stdout",
     "output_type": "stream",
     "text": [
      "Fitting 3 folds for each of 9 candidates, totalling 27 fits\n"
     ]
    },
    {
     "name": "stderr",
     "output_type": "stream",
     "text": [
      "[Parallel(n_jobs=4)]: Done  27 out of  27 | elapsed:    1.9s finished\n"
     ]
    },
    {
     "name": "stdout",
     "output_type": "stream",
     "text": [
      "Train score: 0.790602881699\n",
      "Test score: 0.787829674377\n",
      "Best params: {'priors': (0.9, 0.09999999999999998)}\n"
     ]
    }
   ],
   "source": [
    "param_grid = {\n",
    "    'priors': [(i/10, 1-i/10) for i in range(1,10)],\n",
    "}\n",
    "\n",
    "search = run_search(GaussianNB(), param_grid, n_jobs=4, norm=False)"
   ]
  },
  {
   "cell_type": "code",
   "execution_count": 5,
   "metadata": {},
   "outputs": [
    {
     "name": "stdout",
     "output_type": "stream",
     "text": [
      "Fitting 3 folds for each of 126 candidates, totalling 378 fits\n"
     ]
    },
    {
     "name": "stderr",
     "output_type": "stream",
     "text": [
      "[Parallel(n_jobs=4)]: Done  76 tasks      | elapsed:    2.5s\n"
     ]
    },
    {
     "name": "stdout",
     "output_type": "stream",
     "text": [
      "Train score: 0.778880182002\n",
      "Test score: 0.770369824665\n",
      "Best params: {'fit_prior': True, 'alpha': 0.01, 'class_prior': (0.8, 0.19999999999999996)}\n"
     ]
    },
    {
     "name": "stderr",
     "output_type": "stream",
     "text": [
      "[Parallel(n_jobs=4)]: Done 378 out of 378 | elapsed:   11.4s finished\n"
     ]
    }
   ],
   "source": [
    "param_grid = {\n",
    "    'alpha': [0.01, .5, 1., 1.5, 2, 2.5, 5],\n",
    "    'fit_prior': [True, False],\n",
    "    'class_prior': [(i/10, 1-i/10) for i in range(1,10)],\n",
    "}\n",
    "\n",
    "search = run_search(MultinomialNB(), param_grid, n_jobs=4, norm=False)"
   ]
  },
  {
   "cell_type": "code",
   "execution_count": 7,
   "metadata": {},
   "outputs": [
    {
     "name": "stdout",
     "output_type": "stream",
     "text": [
      "Fitting 3 folds for each of 756 candidates, totalling 2268 fits\n"
     ]
    },
    {
     "name": "stderr",
     "output_type": "stream",
     "text": [
      "[Parallel(n_jobs=4)]: Done  42 tasks      | elapsed:    2.4s\n",
      "[Parallel(n_jobs=4)]: Done 192 tasks      | elapsed:   10.2s\n",
      "[Parallel(n_jobs=4)]: Done 442 tasks      | elapsed:   26.1s\n",
      "[Parallel(n_jobs=4)]: Done 792 tasks      | elapsed:   49.2s\n",
      "[Parallel(n_jobs=4)]: Done 1242 tasks      | elapsed:  1.3min\n",
      "[Parallel(n_jobs=4)]: Done 1792 tasks      | elapsed:  1.8min\n",
      "[Parallel(n_jobs=4)]: Done 2268 out of 2268 | elapsed:  2.2min finished\n"
     ]
    },
    {
     "name": "stdout",
     "output_type": "stream",
     "text": [
      "Train score: 0.787095551062\n",
      "Test score: 0.780462649182\n",
      "Best params: {'binarize': 10, 'fit_prior': True, 'alpha': 0.01, 'class_prior': (0.8, 0.19999999999999996)}\n"
     ]
    }
   ],
   "source": [
    "param_grid = {\n",
    "    'alpha': [0.01, .5, 1., 1.5, 2, 2.5, 5],\n",
    "    'binarize': [0, 1, 5, 10, 50, 100],\n",
    "    'fit_prior': [True, False],\n",
    "    'class_prior': [(i/10, 1-i/10) for i in range(1,10)],\n",
    "}\n",
    "\n",
    "search = run_search(BernoulliNB(), param_grid, n_jobs=4, norm=False)"
   ]
  },
  {
   "cell_type": "code",
   "execution_count": 31,
   "metadata": {},
   "outputs": [
    {
     "name": "stdout",
     "output_type": "stream",
     "text": [
      "Fitting 3 folds for each of 450 candidates, totalling 1350 fits\n"
     ]
    },
    {
     "name": "stderr",
     "output_type": "stream",
     "text": [
      "[Parallel(n_jobs=4)]: Done  76 tasks      | elapsed:    2.2s\n",
      "[Parallel(n_jobs=4)]: Done 376 tasks      | elapsed:   18.1s\n",
      "[Parallel(n_jobs=4)]: Done 876 tasks      | elapsed:   37.4s\n",
      "[Parallel(n_jobs=4)]: Done 1350 out of 1350 | elapsed:  1.2min finished\n"
     ]
    },
    {
     "name": "stdout",
     "output_type": "stream",
     "text": [
      "Train score: 0.86716380182\n",
      "Test score: 0.85243848534\n",
      "Best params: {'min_samples_split': 8, 'max_features': None, 'criterion': 'gini', 'min_impurity_decrease': 0.0001, 'min_samples_leaf': 14}\n"
     ]
    }
   ],
   "source": [
    "param_grid = {\n",
    "    'criterion': ['gini'],\n",
    "    'min_samples_split': [6, 8, 10, 12, 14],\n",
    "    'min_samples_leaf': [6, 8, 10, 12, 14],\n",
    "    'max_features': ['sqrt', 'log2', None],\n",
    "    'min_impurity_decrease': [.1, .01, .001, .0001, .00001, .000001]\n",
    "}\n",
    "\n",
    "search = run_search(DecisionTreeClassifier(), param_grid, n_jobs=4)"
   ]
  },
  {
   "cell_type": "code",
   "execution_count": 14,
   "metadata": {},
   "outputs": [
    {
     "name": "stdout",
     "output_type": "stream",
     "text": [
      "Fitting 3 folds for each of 1 candidates, totalling 3 fits\n"
     ]
    },
    {
     "name": "stderr",
     "output_type": "stream",
     "text": [
      "[Parallel(n_jobs=4)]: Done   3 out of   3 | elapsed:  1.5min finished\n"
     ]
    },
    {
     "name": "stdout",
     "output_type": "stream",
     "text": [
      "Train score: 0.881256319515\n",
      "Test score: 0.829527036982\n",
      "Best params: {}\n"
     ]
    }
   ],
   "source": [
    "# Takes a looooong time\n",
    "param_grid = {\n",
    "    \n",
    "}\n",
    "\n",
    "search = run_search(KNeighborsClassifier(), param_grid, n_jobs=4)"
   ]
  },
  {
   "cell_type": "code",
   "execution_count": 18,
   "metadata": {},
   "outputs": [
    {
     "name": "stdout",
     "output_type": "stream",
     "text": [
      "Fitting 3 folds for each of 10 candidates, totalling 30 fits\n"
     ]
    },
    {
     "name": "stderr",
     "output_type": "stream",
     "text": [
      "[Parallel(n_jobs=4)]: Done  30 out of  30 | elapsed:   16.0s finished\n"
     ]
    },
    {
     "name": "stdout",
     "output_type": "stream",
     "text": [
      "Train score: 0.851049039434\n",
      "Test score: 0.84566082216\n",
      "Best params: {'dual': True, 'max_iter': 200}\n"
     ]
    }
   ],
   "source": [
    "param_grid = {\n",
    "    'max_iter': [100, 200, 500, 1000, 2000],\n",
    "    'dual': [True, False],\n",
    "}\n",
    "\n",
    "search = run_search(LinearSVC(), param_grid, n_jobs=4)"
   ]
  },
  {
   "cell_type": "code",
   "execution_count": 21,
   "metadata": {},
   "outputs": [
    {
     "name": "stdout",
     "output_type": "stream",
     "text": [
      "Fitting 3 folds for each of 1152 candidates, totalling 3456 fits\n"
     ]
    },
    {
     "name": "stderr",
     "output_type": "stream",
     "text": [
      "[Parallel(n_jobs=4)]: Done  42 tasks      | elapsed:   32.3s\n",
      "[Parallel(n_jobs=4)]: Done 192 tasks      | elapsed:  2.1min\n",
      "[Parallel(n_jobs=4)]: Done 442 tasks      | elapsed:  3.7min\n",
      "[Parallel(n_jobs=4)]: Done 792 tasks      | elapsed:  5.3min\n",
      "[Parallel(n_jobs=4)]: Done 1242 tasks      | elapsed: 10.5min\n",
      "[Parallel(n_jobs=4)]: Done 1792 tasks      | elapsed: 17.2min\n",
      "[Parallel(n_jobs=4)]: Done 2442 tasks      | elapsed: 21.9min\n",
      "[Parallel(n_jobs=4)]: Done 3192 tasks      | elapsed: 28.9min\n",
      "[Parallel(n_jobs=4)]: Done 3456 out of 3456 | elapsed: 31.5min finished\n"
     ]
    },
    {
     "name": "stdout",
     "output_type": "stream",
     "text": [
      "Train score: 0.896265166835\n",
      "Test score: 0.856121997937\n",
      "Best params: {'criterion': 'gini', 'n_estimators': 200, 'min_impurity_decrease': 0.0, 'min_samples_split': 8, 'min_samples_leaf': 2}\n"
     ]
    }
   ],
   "source": [
    "param_grid = {\n",
    "    'n_estimators': [5, 10, 20, 50, 100, 200],\n",
    "    'criterion': ['gini', 'entropy'],\n",
    "    'min_samples_split': [2, 8, 10, 12],\n",
    "    'min_samples_leaf': [2, 8, 10, 12],\n",
    "    'min_impurity_decrease': [0., .1, .01, .001, .0001, .00001]\n",
    "}\n",
    "\n",
    "search = run_search(RandomForestClassifier(), param_grid, n_jobs=4)"
   ]
  },
  {
   "cell_type": "code",
   "execution_count": 22,
   "metadata": {},
   "outputs": [
    {
     "name": "stdout",
     "output_type": "stream",
     "text": [
      "Fitting 3 folds for each of 36 candidates, totalling 108 fits\n"
     ]
    },
    {
     "name": "stderr",
     "output_type": "stream",
     "text": [
      "[Parallel(n_jobs=4)]: Done  42 tasks      | elapsed:  1.4min\n",
      "[Parallel(n_jobs=4)]: Done 108 out of 108 | elapsed:  3.3min finished\n"
     ]
    },
    {
     "name": "stdout",
     "output_type": "stream",
     "text": [
      "Train score: 0.872345803842\n",
      "Test score: 0.844187417121\n",
      "Best params: {'criterion': 'gini', 'n_estimators': 200, 'min_impurity_decrease': 0.0, 'min_samples_split': 8, 'min_samples_leaf': 2}\n"
     ]
    }
   ],
   "source": [
    "param_grid = {\n",
    "    'n_estimators': [200],\n",
    "    'criterion': ['gini'],\n",
    "    'min_samples_split': [8, 10, 12],\n",
    "    'min_samples_leaf': [2, 8, 10],\n",
    "    'min_impurity_decrease': [0., .1, .001, .0001]\n",
    "}\n",
    "\n",
    "search = run_search(ExtraTreesClassifier(), param_grid, n_jobs=4)"
   ]
  },
  {
   "cell_type": "code",
   "execution_count": 30,
   "metadata": {},
   "outputs": [
    {
     "name": "stdout",
     "output_type": "stream",
     "text": [
      "Fitting 3 folds for each of 4 candidates, totalling 12 fits\n"
     ]
    },
    {
     "name": "stderr",
     "output_type": "stream",
     "text": [
      "[Parallel(n_jobs=4)]: Done  12 out of  12 | elapsed:    2.5s finished\n"
     ]
    },
    {
     "name": "stdout",
     "output_type": "stream",
     "text": [
      "Train score: 0.851049039434\n",
      "Test score: 0.844703108885\n",
      "Best params: {'fit_intercept': True, 'penalty': 'l2', 'dual': False}\n"
     ]
    }
   ],
   "source": [
    "param_grid = {\n",
    "    'penalty': ['l2'],\n",
    "    'dual': [True, False],\n",
    "    'fit_intercept': [True, False],\n",
    "}\n",
    "\n",
    "search = run_search(LogisticRegression(), param_grid, n_jobs=4)"
   ]
  },
  {
   "cell_type": "code",
   "execution_count": 35,
   "metadata": {},
   "outputs": [
    {
     "name": "stdout",
     "output_type": "stream",
     "text": [
      "Fitting 3 folds for each of 3 candidates, totalling 9 fits\n"
     ]
    },
    {
     "name": "stderr",
     "output_type": "stream",
     "text": [
      "[Parallel(n_jobs=4)]: Done   9 out of   9 | elapsed:  3.0min finished\n"
     ]
    },
    {
     "name": "stdout",
     "output_type": "stream",
     "text": [
      "Train score: 0.868996461072\n",
      "Test score: 0.845439811404\n",
      "Best params: {'alpha': 0.1, 'hidden_layer_sizes': (100, 100)}\n"
     ]
    }
   ],
   "source": [
    "param_grid = {\n",
    "    'hidden_layer_sizes': [(100, 100)],\n",
    "    'alpha': [.1, .01, .001]\n",
    "}\n",
    "\n",
    "search = run_search(MLPClassifier(), param_grid, n_jobs=4)"
   ]
  }
 ],
 "metadata": {
  "kernelspec": {
   "display_name": "Python 3",
   "language": "python",
   "name": "python3"
  },
  "language_info": {
   "codemirror_mode": {
    "name": "ipython",
    "version": 3
   },
   "file_extension": ".py",
   "mimetype": "text/x-python",
   "name": "python",
   "nbconvert_exporter": "python",
   "pygments_lexer": "ipython3",
   "version": "3.5.3"
  }
 },
 "nbformat": 4,
 "nbformat_minor": 2
}
